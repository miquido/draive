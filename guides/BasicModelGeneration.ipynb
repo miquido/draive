{
 "cells": [
  {
   "cell_type": "markdown",
   "metadata": {},
   "source": [
    "## Generate structured data with OpenAI\n",
    "\n",
    "Add OPENAI_API_KEY key to the .env file to allow access to OpenAI services."
   ]
  },
  {
   "cell_type": "code",
   "execution_count": 1,
   "metadata": {},
   "outputs": [],
   "source": [
    "from draive import load_env\n",
    "\n",
    "load_env()  # loads OPENAI_API_KEY from .env file"
   ]
  },
  {
   "cell_type": "code",
   "execution_count": 2,
   "metadata": {},
   "outputs": [],
   "source": [
    "from draive import DataModel\n",
    "\n",
    "\n",
    "# define a Model class to describe the data\n",
    "class InterestingPlace(DataModel):\n",
    "    name: str\n",
    "    description: str | None = None"
   ]
  },
  {
   "cell_type": "code",
   "execution_count": 3,
   "metadata": {},
   "outputs": [
    {
     "name": "stdout",
     "output_type": "stream",
     "text": [
      "name: The British Museum\n",
      "description: A world-renowned museum dedicated to human history, art, and culture, featuring an extensive collection of artifacts from around the globe.\n"
     ]
    }
   ],
   "source": [
    "from draive import ctx, generate_model\n",
    "from draive.openai import OpenAIChatConfig, openai_lmm\n",
    "\n",
    "# initialize dependencies and configuration\n",
    "async with ctx.scope(\n",
    "    \"basics\",\n",
    "    openai_lmm(),  # define used LMM use OpenAI\n",
    "    OpenAIChatConfig(model=\"gpt-4o-mini\"),  # configure OpenAI model\n",
    "):\n",
    "    # request model generation\n",
    "    generated: InterestingPlace = await generate_model(\n",
    "        # define model to generate\n",
    "        InterestingPlace,\n",
    "        # provide a prompt instruction\n",
    "        instruction=\"You are a helpful assistant.\",\n",
    "        # add user input\n",
    "        input=\"What is the most interesting place to visit in London?\",\n",
    "    )\n",
    "    print(generated)"
   ]
  }
 ],
 "metadata": {
  "kernelspec": {
   "display_name": ".venv",
   "language": "python",
   "name": "python3"
  },
  "language_info": {
   "codemirror_mode": {
    "name": "ipython",
    "version": 3
   },
   "file_extension": ".py",
   "mimetype": "text/x-python",
   "name": "python",
   "nbconvert_exporter": "python",
   "pygments_lexer": "ipython3",
   "version": "3.12.4"
  }
 },
 "nbformat": 4,
 "nbformat_minor": 2
}
