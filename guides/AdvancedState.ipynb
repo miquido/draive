{
 "cells": [
  {
   "cell_type": "markdown",
   "metadata": {},
   "source": [
    "# Advanced state\n",
    "\n",
    "Draive provides a dedicated base class for defining application inner state (`State`) and serializable models (`DataModel`). While basic usage is quite straight forward, it hides a lot of customization and features to explore when needed. Both `State` and `DataModel` share most of the functionalities except the elements related to serialization and schema generation."
   ]
  },
  {
   "cell_type": "markdown",
   "metadata": {},
   "source": [
    "## Dict conversion\n",
    "\n",
    "First interesting feature not visible at a glance is an ability to convert from and to a dictionary populated with basic values (dict, list, str, int, float, bool or None)."
   ]
  },
  {
   "cell_type": "code",
   "execution_count": 1,
   "metadata": {},
   "outputs": [
    {
     "name": "stdout",
     "output_type": "stream",
     "text": [
      "{'name': 'converted', 'value': 42}\n"
     ]
    }
   ],
   "source": [
    "from draive import BasicValue, State\n",
    "\n",
    "\n",
    "class DictConverted(State):\n",
    "    name: str\n",
    "    value: int\n",
    "\n",
    "\n",
    "# all of this applies to the `DataModel` as well\n",
    "dict_converted: DictConverted = DictConverted(name=\"converted\", value=42)\n",
    "dict_converted_as_dict: dict[str, BasicValue] = dict_converted.as_dict()\n",
    "dict_converted_from_dict: DictConverted = DictConverted.from_dict(dict_converted_as_dict)\n",
    "print(dict_converted_from_dict)"
   ]
  },
  {
   "cell_type": "markdown",
   "metadata": {},
   "source": [
    "## Mutations\n",
    "\n",
    "Both `State` and `DataModel` are immutable by default. Attempting to change any of its fields value will result in both linting and runtime errors. The only valid method to apply a mutation is through a copy. There is a dedicated method to perform a mutating copy operation:"
   ]
  },
  {
   "cell_type": "code",
   "execution_count": 2,
   "metadata": {},
   "outputs": [
    {
     "name": "stdout",
     "output_type": "stream",
     "text": [
      "initial {'identifier': 'pre', 'value': 42}\n",
      "updated {'identifier': 'post', 'value': 42}\n",
      "final {'identifier': 'pre', 'value': 21}\n"
     ]
    }
   ],
   "source": [
    "class Mutable(State):\n",
    "    identifier: str\n",
    "    value: int\n",
    "\n",
    "\n",
    "# prepare an instance of state\n",
    "initial: Mutable = Mutable(\n",
    "    identifier=\"pre\",\n",
    "    value=42,\n",
    ")\n",
    "# update one of the fields by creating a copy\n",
    "updated: Mutable = initial.updated(identifier=\"post\")\n",
    "# update initial state once more - this will be another copy\n",
    "final: Mutable = initial.updated(value=21)\n",
    "\n",
    "print(\"initial\", initial)\n",
    "print(\"updated\", updated)\n",
    "print(\"final\", final)"
   ]
  },
  {
   "cell_type": "markdown",
   "metadata": {},
   "source": [
    "## JSON conversion\n",
    "\n",
    "Each `DataModel` can be serialized using JSON format. Current implementation uses an intermediate step of conversion from/to a dict using the methods described above."
   ]
  },
  {
   "cell_type": "code",
   "execution_count": 3,
   "metadata": {},
   "outputs": [
    {
     "name": "stdout",
     "output_type": "stream",
     "text": [
      "{\n",
      "  \"name\": \"converted\",\n",
      "  \"value\": 42\n",
      "}\n"
     ]
    }
   ],
   "source": [
    "from draive import DataModel\n",
    "\n",
    "\n",
    "class JSONConverted(DataModel):\n",
    "    name: str\n",
    "    value: int\n",
    "\n",
    "\n",
    "json_converted: JSONConverted = JSONConverted(name=\"converted\", value=42)\n",
    "json_converted_as_json: str = json_converted.as_json()\n",
    "json_converted_from_json: JSONConverted = JSONConverted.from_json(json_converted_as_json)\n",
    "print(json_converted_from_json)"
   ]
  },
  {
   "cell_type": "markdown",
   "metadata": {},
   "source": [
    "## Model schema\n",
    "\n",
    "Each `DataModel` has an associated schema which is generated using type annotations of the class fields. Models have an ability to generate a JSON-schema compatible description:"
   ]
  },
  {
   "cell_type": "code",
   "execution_count": 4,
   "metadata": {},
   "outputs": [
    {
     "name": "stdout",
     "output_type": "stream",
     "text": [
      "{\n",
      "  \"type\": \"object\",\n",
      "  \"properties\": {\n",
      "    \"field\": {\n",
      "      \"type\": \"string\"\n",
      "    }\n",
      "  },\n",
      "  \"required\": [\n",
      "    \"field\"\n",
      "  ]\n",
      "}\n"
     ]
    }
   ],
   "source": [
    "class BasicModel(DataModel):\n",
    "    field: str\n",
    "\n",
    "print(BasicModel.json_schema(indent=2))"
   ]
  },
  {
   "cell_type": "markdown",
   "metadata": {},
   "source": [
    "Additionally each model can generate a simplified schema description. This can be useful when requesting LLM structured data generation in some cases. Let's have a look:"
   ]
  },
  {
   "cell_type": "code",
   "execution_count": 5,
   "metadata": {},
   "outputs": [
    {
     "name": "stdout",
     "output_type": "stream",
     "text": [
      "{\n",
      "  \"field\": \"string\"\n",
      "}\n"
     ]
    }
   ],
   "source": [
    "print(BasicModel.simplified_schema(indent=2))"
   ]
  },
  {
   "cell_type": "markdown",
   "metadata": {},
   "source": [
    "Field schema can be altered by using per field customization if needed."
   ]
  },
  {
   "cell_type": "markdown",
   "metadata": {},
   "source": [
    "## Field customization\n",
    "\n",
    "Each field defined within the `State` or `DataModel` class can be customized by using a dedicated default value called `Field`. It allows to change the field validation, serialization or other elements."
   ]
  },
  {
   "cell_type": "markdown",
   "metadata": {},
   "source": [
    "### Alias and description\n",
    "\n",
    "Fields can have aliases which can be useful for serialization. Both regular and aliased names are available to instantiate an object. When generating the specification, aliases are always used instead of regular field names. Besides the alias, each field can also have a description which is also included in the schema:"
   ]
  },
  {
   "cell_type": "code",
   "execution_count": 6,
   "metadata": {},
   "outputs": [
    {
     "name": "stdout",
     "output_type": "stream",
     "text": [
      "JSON schema:\n",
      "{\n",
      "  \"type\": \"object\",\n",
      "  \"properties\": {\n",
      "    \"described\": {\n",
      "      \"type\": \"integer\",\n",
      "      \"description\": \"Field description\"\n",
      "    },\n",
      "    \"aliased\": {\n",
      "      \"type\": \"string\"\n",
      "    }\n",
      "  },\n",
      "  \"required\": [\n",
      "    \"described\",\n",
      "    \"aliased\"\n",
      "  ]\n",
      "}\n",
      "Simplified schema:\n",
      "{\n",
      "  \"described\": \"integer(Field description)\",\n",
      "  \"aliased\": \"string\"\n",
      "}\n"
     ]
    }
   ],
   "source": [
    "from draive import Field\n",
    "\n",
    "\n",
    "class CustomizedSchemaModel(DataModel):\n",
    "    described: int = Field(description=\"Field description\")\n",
    "    aliased: str = Field(aliased=\"field_alias\")\n",
    "\n",
    "\n",
    "print(f\"JSON schema:\\n{CustomizedSchemaModel.json_schema(indent=2)}\")\n",
    "print(f\"Simplified schema:\\n{CustomizedSchemaModel.simplified_schema(indent=2)}\")"
   ]
  },
  {
   "cell_type": "markdown",
   "metadata": {},
   "source": [
    "### Default values\n",
    "\n",
    "Fields can have regular default values instead of a dedicated `Field` default. When using `Field` you can still provide a default value and you can also define default value factory instead. When default value is not defined through the `Field` the `Field` itself does not serve a role of a default value."
   ]
  },
  {
   "cell_type": "code",
   "execution_count": 7,
   "metadata": {},
   "outputs": [
    {
     "name": "stdout",
     "output_type": "stream",
     "text": [
      "{\n",
      "  \"default\": 42,\n",
      "  \"field_default\": 21,\n",
      "  \"field_default_factory\": []\n",
      "}\n"
     ]
    }
   ],
   "source": [
    "class CustomizedDefaultsModel(DataModel):\n",
    "    default: int = 42\n",
    "    field_default: int = Field(default=21)\n",
    "    field_default_factory: list[str] = Field(default_factory=list)\n",
    "\n",
    "\n",
    "# since all fields have defaults we can initialize without arguments\n",
    "print(CustomizedDefaultsModel())"
   ]
  },
  {
   "cell_type": "markdown",
   "metadata": {},
   "source": [
    "### Verification\n",
    "\n",
    "Each field is automatically validated based on its type annotation. However if a field is required to have any additional validation you can provide an appropriate function to execute in addition to regular validation."
   ]
  },
  {
   "cell_type": "code",
   "execution_count": 8,
   "metadata": {},
   "outputs": [],
   "source": [
    "# verifier gets pre-validated value, it already have required type\n",
    "def verifier(value: int) -> None:\n",
    "    if value < 0:\n",
    "        # raise an Exception if something is wrong with the value\n",
    "        raise ValueError(\"Value can't be less than zero!\")\n",
    "\n",
    "\n",
    "class VerifiedModel(DataModel):\n",
    "    value: int = Field(verifier=verifier)"
   ]
  },
  {
   "cell_type": "markdown",
   "metadata": {},
   "source": [
    "### Validation\n",
    "\n",
    "When automatically generated validation is not suitable for your specific case you can override it to provide custom validation function for each field. When that happens you are taking the full responsibility of ensuring proper value is used for a given field. You can't specify both validator and verifier at the same time, add any verification required to your validator when needed."
   ]
  },
  {
   "cell_type": "code",
   "execution_count": 9,
   "metadata": {},
   "outputs": [],
   "source": [
    "from typing import Any\n",
    "\n",
    "from draive import ParameterValidationContext, ParameterValidationError\n",
    "\n",
    "\n",
    "def validator(\n",
    "    # validator gets unknown type as an input, make sure to verify or convert it\n",
    "    value: Any,\n",
    "    # validator has also the current validation context which contains additional information\n",
    "    # i.e. what field actually is validated, it is very useful for preparing diagnostics information\n",
    "    context: ParameterValidationContext,\n",
    ") -> int:\n",
    "    if isinstance(value, int):\n",
    "        return value\n",
    "\n",
    "    else:\n",
    "        raise ParameterValidationError.invalid_type(\n",
    "            expected=int,\n",
    "            received=type(value),\n",
    "            context=context,\n",
    "        )\n",
    "\n",
    "\n",
    "class ValidatedModel(DataModel):\n",
    "    value: int = Field(validator=validator)"
   ]
  },
  {
   "cell_type": "markdown",
   "metadata": {},
   "source": [
    "### Schema specification\n",
    "\n",
    "Similarly to validation, field schema specification is also automatically generated and can also be replaced with a custom schema specification for any given field."
   ]
  },
  {
   "cell_type": "code",
   "execution_count": 10,
   "metadata": {},
   "outputs": [
    {
     "name": "stdout",
     "output_type": "stream",
     "text": [
      "{\n",
      "  \"type\": \"object\",\n",
      "  \"properties\": {\n",
      "    \"value\": {\n",
      "      \"type\": \"integer\",\n",
      "      \"description\": \"Fully custom\"\n",
      "    }\n",
      "  },\n",
      "  \"required\": [\n",
      "    \"value\"\n",
      "  ]\n",
      "}\n"
     ]
    }
   ],
   "source": [
    "class CustomizedSpecificationModel(DataModel):\n",
    "    value: int = Field(specification={\"type\": \"integer\", \"description\": \"Fully custom\"})\n",
    "\n",
    "\n",
    "print(CustomizedSpecificationModel.json_schema(indent=2))"
   ]
  },
  {
   "cell_type": "markdown",
   "metadata": {},
   "source": [
    "### Conversion\n",
    "\n",
    "The last element which can be specified for a field is a function converting field value to the basic type. It is used for the dict conversion or serialization of data. You can fully customize what will be the representation of the field when converting the object to dict or json. Make sure that validating (deserializing) the result back will not cause any issues. You should also ensure proper schema update if needed."
   ]
  },
  {
   "cell_type": "code",
   "execution_count": 11,
   "metadata": {},
   "outputs": [
    {
     "name": "stdout",
     "output_type": "stream",
     "text": [
      "{\n",
      "  \"value\": 8\n",
      "}\n"
     ]
    }
   ],
   "source": [
    "def converter(value: str) -> int:\n",
    "    return len(value)\n",
    "\n",
    "\n",
    "class CustomizedConversionModel(DataModel):\n",
    "    value: str = Field(converter=converter)\n",
    "\n",
    "\n",
    "print(CustomizedConversionModel(value=\"integer?\"))"
   ]
  },
  {
   "cell_type": "markdown",
   "metadata": {},
   "source": [
    "## Property paths\n",
    "\n",
    "Additional advanced feature available for both `State` and `DataModel` is PropertyPath. PropertyPath is an object which points to a given element inside the state/model object and can be used to retrieve it when needed. In order to create a property path you can use a special type property `_`. It produces a fully typed `ParameterPath` instance, however it has to be type converted using the `path` method to ensure proper typing."
   ]
  },
  {
   "cell_type": "code",
   "execution_count": 12,
   "metadata": {},
   "outputs": [
    {
     "name": "stdout",
     "output_type": "stream",
     "text": [
      "[42]\n"
     ]
    }
   ],
   "source": [
    "from draive import ParameterPath\n",
    "\n",
    "\n",
    "class NestedPathModel(DataModel):\n",
    "    values: list[int]\n",
    "\n",
    "\n",
    "class PathModel(DataModel):\n",
    "    nested: NestedPathModel\n",
    "    value: int\n",
    "\n",
    "\n",
    "# we can construct the path for any given field inside\n",
    "path: ParameterPath[PathModel, list[int]] = PathModel.path(PathModel._.nested.values)\n",
    "path_model_instance: PathModel = PathModel(\n",
    "    value=21,\n",
    "    nested=NestedPathModel(\n",
    "        values=[42],\n",
    "    ),\n",
    ")\n",
    "# and use it to retrieve that field value from any instance\n",
    "print(path(path_model_instance))"
   ]
  },
  {
   "cell_type": "markdown",
   "metadata": {},
   "source": [
    "Property paths can be used not only as the getters for field values. It also preserves the path as a string to be accessed later if needed."
   ]
  },
  {
   "cell_type": "code",
   "execution_count": 13,
   "metadata": {},
   "outputs": [
    {
     "name": "stdout",
     "output_type": "stream",
     "text": [
      "nested.values\n"
     ]
    }
   ],
   "source": [
    "print(path)"
   ]
  },
  {
   "cell_type": "markdown",
   "metadata": {},
   "source": [
    "Besides that paths can be also used to prepare per field requirements. We can simplify usage of paths in that case by avoiding the type conversion step:"
   ]
  },
  {
   "cell_type": "code",
   "execution_count": 14,
   "metadata": {},
   "outputs": [
    {
     "data": {
      "text/plain": [
       "True"
      ]
     },
     "execution_count": 14,
     "metadata": {},
     "output_type": "execute_result"
    }
   ],
   "source": [
    "from draive import ParameterRequirement\n",
    "\n",
    "# prepare a parameter requirement - choose a requirement type you need\n",
    "requirement: ParameterRequirement[PathModel] = ParameterRequirement[PathModel].equal(\n",
    "    42, # here we require value to be equal to 42\n",
    "    path=PathModel._.nested.values[0], # under this specific path\n",
    ")\n",
    "\n",
    "# requirement can be executed to check value on any instance\n",
    "requirement.check(path_model_instance)"
   ]
  },
  {
   "cell_type": "markdown",
   "metadata": {},
   "source": [
    "Requirements can be combined and examined. This can be used to provide an expressive interface for defining various filters."
   ]
  },
  {
   "cell_type": "code",
   "execution_count": 15,
   "metadata": {},
   "outputs": [
    {
     "name": "stdout",
     "output_type": "stream",
     "text": [
      "lhs: nested.values[0]\n",
      "operator: equal\n",
      "rhs: 42\n"
     ]
    },
    {
     "data": {
      "text/plain": [
       "True"
      ]
     },
     "execution_count": 15,
     "metadata": {},
     "output_type": "execute_result"
    }
   ],
   "source": [
    "print(\"lhs:\", requirement.lhs)\n",
    "print(\"operator:\", requirement.operator)\n",
    "print(\"rhs:\", requirement.rhs)\n",
    "\n",
    "combined_requirement: ParameterRequirement[PathModel] = requirement & ParameterRequirement[\n",
    "    PathModel\n",
    "].contained_in(\n",
    "    [12, 21],\n",
    "    path=PathModel._.value,\n",
    ")\n",
    "\n",
    "combined_requirement.check(path_model_instance)"
   ]
  }
 ],
 "metadata": {
  "kernelspec": {
   "display_name": ".venv",
   "language": "python",
   "name": "python3"
  },
  "language_info": {
   "codemirror_mode": {
    "name": "ipython",
    "version": 3
   },
   "file_extension": ".py",
   "mimetype": "text/x-python",
   "name": "python",
   "nbconvert_exporter": "python",
   "pygments_lexer": "ipython3",
   "version": "3.12.2"
  }
 },
 "nbformat": 4,
 "nbformat_minor": 2
}
