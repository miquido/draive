{
 "cells": [
  {
   "cell_type": "markdown",
   "metadata": {},
   "source": [
    "# Basics of draive\n",
    "\n",
    "Draive is a framework for building high-quality applications utilizing LLMs. It provides a set of tools allowing to easily manage data flows, dependencies, and state propagation across the application. Draive is suitable for building servers, workers, and local solutions including CLI and GUI based. The core principles of the framework are strongly connected to functional programming and structured concurrency concepts. All of the draive code is fully typed as strictly as possible making as much use of the static analysis as possible. This means that numerous potential issues can be caught before running the code. It is strongly recommended to use strict, full-type linting if possible. Before you dive deeply into the code you should familiarize yourself with the basics."
   ]
  },
  {
   "cell_type": "markdown",
   "metadata": {},
   "source": [
    "## Defining state\n",
    "\n",
    "Let's start by defining a state that can be used within the application. The state can be an LLM configuration, details of the current user, etc. We have two base classes available in draive: `State` and `DataModel` both have a similar basic behavior. The difference is that the `DataModel` is meant to be serializable and have an associated schema description, while the `State` does not. This distinction allows us to propagate non serializable data i.e. functions when using the `State`. Let's define a simple state:"
   ]
  },
  {
   "cell_type": "code",
   "execution_count": 1,
   "metadata": {},
   "outputs": [],
   "source": [
    "from draive import State\n",
    "\n",
    "\n",
    "# inherit from the base class\n",
    "class BasicState(State):\n",
    "    # fields are automatically converted to instance properties\n",
    "    identifier: str\n",
    "    value: int"
   ]
  },
  {
   "cell_type": "markdown",
   "metadata": {},
   "source": [
    "Both `State` and `DataModel` utilize transformation similar to Python's dataclass or pydantic BaseModel which means that all properties defined for the class will be converted into the instance properties and an appropriate `__init__` function will be generated as well. Additionally, both types come with built-in validation. Each object is automatically validated during the initialization ensuring proper types and values for each field. Both types are also immutable by default - you will receive linting and runtime errors when trying to mutate those. To make a mutation of an instance of either of those we can use a dedicated `updated` method which makes a copy on the fly and validates mutation as well. Let's have a look:"
   ]
  },
  {
   "cell_type": "code",
   "execution_count": 2,
   "metadata": {},
   "outputs": [],
   "source": [
    "# create an instance of BasicState\n",
    "basic_state: BasicState = BasicState(\n",
    "    identifier=\"basic\",\n",
    "    value=42,\n",
    ")\n",
    "\n",
    "# BasicState(\n",
    "#     identifier=0, # error! can't instantiate state with wrong data\n",
    "#     value=42,\n",
    "# )\n",
    "\n",
    "# prepare an update\n",
    "updated_state: BasicState = basic_state.updated(\n",
    "    value=21\n",
    ")  # value of `identifier` field won't change\n",
    "\n",
    "# basic_state.value = 0 # error! can't mutate the state"
   ]
  },
  {
   "cell_type": "markdown",
   "metadata": {},
   "source": [
    "When it comes to the `DataModel` type in addition to `State` features, we can use JSON serialization to directly create an instance. We can access its associated schema as well. `DataModel` has also more strict validation including nested structures validation and automatic type conversion."
   ]
  },
  {
   "cell_type": "code",
   "execution_count": 3,
   "metadata": {},
   "outputs": [
    {
     "name": "stdout",
     "output_type": "stream",
     "text": [
      "Decoded model:\n",
      "username: John Doe\n",
      "tags: \n",
      "  - example\n",
      "  - json\n",
      "JSON Schema:\n",
      "{\n",
      "  \"type\": \"object\",\n",
      "  \"properties\": {\n",
      "    \"username\": {\n",
      "      \"type\": \"string\"\n",
      "    },\n",
      "    \"tags\": {\n",
      "      \"oneOf\": [\n",
      "        {\n",
      "          \"type\": \"array\",\n",
      "          \"items\": {\n",
      "            \"type\": \"string\"\n",
      "          }\n",
      "        },\n",
      "        {\n",
      "          \"type\": \"null\"\n",
      "        }\n",
      "      ]\n",
      "    }\n",
      "  },\n",
      "  \"required\": [\n",
      "    \"username\"\n",
      "  ]\n",
      "}\n"
     ]
    }
   ],
   "source": [
    "from collections.abc import Sequence\n",
    "\n",
    "from draive import DataModel\n",
    "\n",
    "\n",
    "# prepare a class, inherit from DataModel this time\n",
    "class BasicModel(DataModel):\n",
    "    username: str\n",
    "    tags: Sequence[str] | None = None\n",
    "\n",
    "\n",
    "json: str = \"\"\"\\\n",
    "{\n",
    "  \"username\": \"John Doe\",\n",
    "  \"tags\": [\"example\", \"json\"]\n",
    "}\\\n",
    "\"\"\"\n",
    "\n",
    "# note that the model will be fully validated during decoding\n",
    "decoded_model: BasicModel = BasicModel.from_json(json)\n",
    "print(f\"Decoded model:\\n{decoded_model}\")\n",
    "\n",
    "# we can also get the json schema of the model\n",
    "print(f\"JSON Schema:\\n{BasicModel.json_schema(indent=2)}\")"
   ]
  },
  {
   "cell_type": "markdown",
   "metadata": {},
   "source": [
    "For more details about `State` and `DataModel` please see the AdvancedState.ipynb"
   ]
  },
  {
   "cell_type": "markdown",
   "metadata": {},
   "source": [
    "## Propagating state\n",
    "We have defined our application state, now it is time to learn how to propagate it through the application. Draive comes with the `ctx` helper for managing the contextual state and dependencies propagation. Most of the draive functions require to be called inside a context scope. Each meaningful operation execution should be wrapped into a separate, new context. Let's define one now:"
   ]
  },
  {
   "cell_type": "code",
   "execution_count": 4,
   "metadata": {},
   "outputs": [],
   "source": [
    "from draive import ctx\n",
    "\n",
    "# ctx.scope creates a new instance of the context scope\n",
    "# we can enter it by using async context manager:\n",
    "async with ctx.scope(\"basics\"):\n",
    "    pass # now everything executed inside will use that scope"
   ]
  },
  {
   "cell_type": "markdown",
   "metadata": {},
   "source": [
    "Ok, we have defined our first context scope, but it is not useful yet. Since we already defined a state, let's see how to propagate it. When defining a function we typically define its arguments to access the state within its scope:"
   ]
  },
  {
   "cell_type": "code",
   "execution_count": 5,
   "metadata": {},
   "outputs": [],
   "source": [
    "def do_something(state: BasicState) -> None:\n",
    "    pass # use the state here"
   ]
  },
  {
   "cell_type": "markdown",
   "metadata": {},
   "source": [
    "It is still the go-to solution for accessing the data in a function scope. However, when a piece of data has to propagate through various function calls, it can be annoying to add an extra argument everywhere, especially in the functions that do not require it by itself. A common solution would be to introduce a shared global state to which all functions have access to, but this has some significant drawbacks. First, it can't be mutated locally to have a different value only for a subset of functions. Otherwise, we introduce a globally shared, mutable state, which is a common source of bugs. When using draive you can propagate any state through the context scope and change it locally when needed. We can begin by defining the initial state:"
   ]
  },
  {
   "cell_type": "code",
   "execution_count": 6,
   "metadata": {},
   "outputs": [],
   "source": [
    "# when defining context scope we can provide any number of state objects,\n",
    "# there can be only a single instance for any given type though\n",
    "async with ctx.scope(\"basics\", basic_state):\n",
    "    pass  # now we are using the defined state in this scope\n",
    "\n",
    "# out of the scope, state is not defined here"
   ]
  },
  {
   "cell_type": "markdown",
   "metadata": {},
   "source": [
    "Each state type can have a single instance available in the context. Its value can be accessed by using the type as a key with proper Generic (parametrized types) handling. Note that only subclasses of `State` can be used as context state, `DataModel` has a different purpose and cannot be used that way. Now we can see how to access it inside the function:"
   ]
  },
  {
   "cell_type": "code",
   "execution_count": 7,
   "metadata": {},
   "outputs": [],
   "source": [
    "def do_something_contextually() -> None:\n",
    "    # access contextual state through the ctx\n",
    "    state: BasicState = ctx.state(BasicState)\n",
    "    print(state) # then you can use it in the scope of the function"
   ]
  },
  {
   "cell_type": "markdown",
   "metadata": {},
   "source": [
    "What will be the current state is defined by the context of the execution. We can change it locally by using another function from `ctx` called `updated` which allows us to update the state by copying the context and allowing to enter a new scope with it:"
   ]
  },
  {
   "cell_type": "code",
   "execution_count": 8,
   "metadata": {},
   "outputs": [
    {
     "name": "stdout",
     "output_type": "stream",
     "text": [
      "Initial:\n",
      "BasicState(identifier: basic, value: 42)\n",
      "Updated:\n",
      "BasicState(identifier: updated, value: 42)\n",
      "Final:\n",
      "BasicState(identifier: basic, value: 42)\n"
     ]
    }
   ],
   "source": [
    "async with ctx.scope(\"basics\", basic_state):\n",
    "    # here we have access to the state from the context\n",
    "    print(\"Initial:\")\n",
    "    do_something_contextually()\n",
    "\n",
    "    # then we can update it locally\n",
    "    with ctx.updated(basic_state.updated(identifier=\"updated\")):\n",
    "        print(\"Updated:\")\n",
    "        # and access its updated version\n",
    "        do_something_contextually()\n",
    "\n",
    "    print(\"Final:\")\n",
    "    # when leaving the updated scope we go back to previously defined state\n",
    "    do_something_contextually()\n",
    "\n",
    "# do_something_contextually() # calling it outside of any context scope will cause an error"
   ]
  },
  {
   "cell_type": "markdown",
   "metadata": {},
   "source": [
    "## Logs and metrics\n",
    "\n",
    "Each context scope comes with an additional hidden feature - metrics. Each new context scope creates a new associated metrics scope as well. Metrics allow gathering of diagnostic information about program execution. Each scope gains an unique identifier and can have an additional label that allows to easily find associated information in the logs. Speaking about the logs - those are covered by the context scope as well! You can use `ctx` to log information with additional metadata included. Finally, you can define custom metrics and nested stages, and define how all of the metrics will be consumed. Let's have a look:"
   ]
  },
  {
   "cell_type": "code",
   "execution_count": 9,
   "metadata": {},
   "outputs": [],
   "source": [
    "# we can assign label to the context to better identify it\n",
    "async with ctx.scope(\"logging\"):\n",
    "    ctx.log_info(\"We can use associated logger with additional metadata\")\n",
    "    # finally we can record custom metrics based on the state we already know\n",
    "    # by using a subclass of `State`\n",
    "    ctx.record(BasicState(identifier=\"recorded\", value=42))"
   ]
  },
  {
   "cell_type": "markdown",
   "metadata": {},
   "source": [
    "Nice, but we can't see anything here. How about configuring the loggers first? Draive comes with a helper function for that:"
   ]
  },
  {
   "cell_type": "code",
   "execution_count": 10,
   "metadata": {},
   "outputs": [],
   "source": [
    "from draive import setup_logging\n",
    "\n",
    "# setup python loggers and add a new logger with a given name\n",
    "setup_logging(\"logging\")"
   ]
  },
  {
   "cell_type": "markdown",
   "metadata": {},
   "source": [
    "Since we are into the helpers for a bit - here is one more useful helper for loading the .env files:"
   ]
  },
  {
   "cell_type": "code",
   "execution_count": 11,
   "metadata": {},
   "outputs": [],
   "source": [
    "from draive import load_env\n",
    "\n",
    "load_env()"
   ]
  },
  {
   "cell_type": "markdown",
   "metadata": {},
   "source": [
    "Those two helpers should be called when initializing your application to ensure proper environment and logging. Now let's go back to the metrics. When dealing with metrics we have to define a metrics handler, otherwise all metrics will be ignored. Draive comes with a predefined metrics handler called `MetricsLogger` converting all metrics into logs with a call tree summary at the scope exit:"
   ]
  },
  {
   "cell_type": "code",
   "execution_count": 12,
   "metadata": {},
   "outputs": [
    {
     "name": "stdout",
     "output_type": "stream",
     "text": [
      "07/Jan/2025:15:11:03 +0000 [DEBUG] [logging] [fa4e67d588a8472aaddf717d38c0d2cc] [logging] [a2716aa33597460593a6284824937c81] Entering context...\n",
      "07/Jan/2025:15:11:03 +0000 [INFO] [logging] [fa4e67d588a8472aaddf717d38c0d2cc] [logging] [a2716aa33597460593a6284824937c81] Now we can see the logs!\n",
      "07/Jan/2025:15:11:03 +0000 [DEBUG] [logging] [fa4e67d588a8472aaddf717d38c0d2cc] [logging] [a2716aa33597460593a6284824937c81] Recorded metric:\n",
      "⎡ BasicState:\n",
      "├ identifier: \"recorded\"\n",
      "├ value: 42\n",
      "⌊\n",
      "07/Jan/2025:15:11:03 +0000 [DEBUG] [nested] [fa4e67d588a8472aaddf717d38c0d2cc] [nested] [85a50cbfec9d4d27ae167b14de55396c] Entering context...\n",
      "07/Jan/2025:15:11:03 +0000 [DEBUG] [nested] [fa4e67d588a8472aaddf717d38c0d2cc] [nested] [85a50cbfec9d4d27ae167b14de55396c] Recorded metric:\n",
      "⎡ BasicState:\n",
      "├ identifier: \"recorded-nested\"\n",
      "├ value: 11\n",
      "⌊\n",
      "07/Jan/2025:15:11:03 +0000 [DEBUG] [nested] [fa4e67d588a8472aaddf717d38c0d2cc] [nested] [85a50cbfec9d4d27ae167b14de55396c] ...exiting context after 0.00s\n",
      "07/Jan/2025:15:11:03 +0000 [DEBUG] [logging] [fa4e67d588a8472aaddf717d38c0d2cc] [logging] [a2716aa33597460593a6284824937c81] Metrics summary:\n",
      "⎡ @logging [a2716aa33597460593a6284824937c81](0.00s):\n",
      "|  ⎡ •BasicState:\n",
      "|  |  ├ identifier: \"recorded-nested\"\n",
      "|  |  ├ value: 11\n",
      "|  ⌊\n",
      "|  \n",
      "|  ⎡ @nested [85a50cbfec9d4d27ae167b14de55396c](0.00s):\n",
      "|  |  ⎡ •BasicState:\n",
      "|  |  |  ├ identifier: \"recorded-nested\"\n",
      "|  |  |  ├ value: 11\n",
      "|  |  ⌊\n",
      "|  ⌊\n",
      "⌊\n",
      "07/Jan/2025:15:11:03 +0000 [DEBUG] [logging] [fa4e67d588a8472aaddf717d38c0d2cc] [logging] [a2716aa33597460593a6284824937c81] ...exiting context after 0.00s\n"
     ]
    }
   ],
   "source": [
    "from draive import MetricsLogger\n",
    "\n",
    "async with ctx.scope(\n",
    "    # we can explicitly pass the logger as an argument\n",
    "    # or use the assigned label as the default logger name\n",
    "    \"logging\",\n",
    "    # define the scope completion method to log the scope details\n",
    "    metrics=MetricsLogger.handler(),\n",
    "):\n",
    "    ctx.log_info(\"Now we can see the logs!\")\n",
    "    # we can see recorded custom metrics for the context scope as well\n",
    "    ctx.record(BasicState(identifier=\"recorded\", value=42))\n",
    "\n",
    "    # or we can create nested context scope which creates\n",
    "    # a separate subtree for metrics\n",
    "    with ctx.scope(\"nested\"):\n",
    "        # now we can record the same thing again\n",
    "        # but this time it will be associated with the nested context scope\n",
    "        ctx.record(BasicState(identifier=\"recorded-nested\", value=11))\n",
    "\n",
    "# additionally when we exit the context scope we get the execution summary\n",
    "# including all recorded metrics"
   ]
  },
  {
   "cell_type": "markdown",
   "metadata": {},
   "source": [
    "Now that is useful! You can customize how those metrics are reported and gathered by implementing the custom MetricsHandler and using it when creating a new scope context. This allows you to use any custom metrics-gathering tool you like."
   ]
  },
  {
   "cell_type": "markdown",
   "metadata": {},
   "source": [
    "We have covered all basic concepts related to draive framework. Familiarizing with those is very important and allows us to build on top of that foundation to provide elegant and simple solutions for complex problems. This is not the end of our journey though, there are a lot more details, helpers, and customizations to explore!"
   ]
  }
 ],
 "metadata": {
  "kernelspec": {
   "display_name": ".venv",
   "language": "python",
   "name": "python3"
  },
  "language_info": {
   "codemirror_mode": {
    "name": "ipython",
    "version": 3
   },
   "file_extension": ".py",
   "mimetype": "text/x-python",
   "name": "python",
   "nbconvert_exporter": "python",
   "pygments_lexer": "ipython3",
   "version": "3.12.4"
  }
 },
 "nbformat": 4,
 "nbformat_minor": 2
}
