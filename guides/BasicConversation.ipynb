{
 "cells": [
  {
   "cell_type": "markdown",
   "metadata": {},
   "source": [
    "## Basic usage of draive with OpenAI\n",
    "\n",
    "Add OPENAI_API_KEY key to the .env file to allow access to OpenAI services."
   ]
  },
  {
   "cell_type": "code",
   "execution_count": 1,
   "metadata": {},
   "outputs": [],
   "source": [
    "from draive import load_env\n",
    "\n",
    "load_env()  # loads OPENAI_API_KEY from .env file\n"
   ]
  },
  {
   "cell_type": "code",
   "execution_count": 2,
   "metadata": {},
   "outputs": [],
   "source": [
    "from datetime import UTC, datetime\n",
    "\n",
    "from draive import tool\n",
    "\n",
    "\n",
    "# prepare a basic tool for getting current date and time\n",
    "@tool(description=\"UTC time and date now\")\n",
    "async def utc_datetime() -> str:\n",
    "    return datetime.now(UTC).strftime(\"%A %d %B, %Y, %H:%M:%S\")"
   ]
  },
  {
   "cell_type": "code",
   "execution_count": 3,
   "metadata": {},
   "outputs": [
    {
     "name": "stdout",
     "output_type": "stream",
     "text": [
      "identifier: 7d535283e0534ba3b10a5ab2d1956da5\n",
      "role: model\n",
      "author: None\n",
      "created: 2025-01-07 14:19:56.074910+00:00\n",
      "content: \n",
      "  parts: \n",
      "    - text: The current time is 14:19.\n",
      "      meta: None\n",
      "meta: None\n"
     ]
    }
   ],
   "source": [
    "from draive import ConversationMessage, conversation_completion, ctx\n",
    "from draive.openai import OpenAIChatConfig, openai_lmm\n",
    "\n",
    "# initialize dependencies and configuration\n",
    "async with ctx.scope(\n",
    "    \"basics\",\n",
    "    openai_lmm(),  # define used LMM to use OpenAI\n",
    "    OpenAIChatConfig(model=\"gpt-3.5-turbo-0125\"),  # configure OpenAI model\n",
    "):\n",
    "    # request conversation completion\n",
    "    response: ConversationMessage = await conversation_completion(\n",
    "        # provide a prompt instruction\n",
    "        instruction=\"You are a helpful assistant.\",\n",
    "        # add user input\n",
    "        input=\"Hi! What is the time now?\",\n",
    "        # define tools available to the model\n",
    "        tools=[utc_datetime],\n",
    "    )\n",
    "    print(response)"
   ]
  }
 ],
 "metadata": {
  "kernelspec": {
   "display_name": ".venv",
   "language": "python",
   "name": "python3"
  },
  "language_info": {
   "codemirror_mode": {
    "name": "ipython",
    "version": 3
   },
   "file_extension": ".py",
   "mimetype": "text/x-python",
   "name": "python",
   "nbconvert_exporter": "python",
   "pygments_lexer": "ipython3",
   "version": "3.12.4"
  }
 },
 "nbformat": 4,
 "nbformat_minor": 2
}
