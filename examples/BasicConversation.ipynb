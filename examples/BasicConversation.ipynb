{
 "cells": [
  {
   "cell_type": "markdown",
   "metadata": {},
   "source": [
    "## Basic usage of draive with OpenAI\n",
    "\n",
    "Add OPENAI_API_KEY key to the .env file to allow access to OpenAI services."
   ]
  },
  {
   "cell_type": "code",
   "execution_count": 2,
   "metadata": {},
   "outputs": [],
   "source": [
    "from draive import load_env\n",
    "\n",
    "load_env()  # loads OPENAI_API_KEY from .env file"
   ]
  },
  {
   "cell_type": "code",
   "execution_count": 3,
   "metadata": {},
   "outputs": [],
   "source": [
    "from datetime import UTC, datetime\n",
    "\n",
    "from draive import tool\n",
    "\n",
    "\n",
    "# prepare a basic tool for getting current date and time\n",
    "@tool(description=\"UTC time and date now\")\n",
    "async def utc_datetime() -> str:\n",
    "    return datetime.now(UTC).strftime(\"%A %d %B, %Y, %H:%M:%S\")"
   ]
  },
  {
   "cell_type": "code",
   "execution_count": 4,
   "metadata": {},
   "outputs": [
    {
     "name": "stdout",
     "output_type": "stream",
     "text": [
      "{\n",
      "  \"identifier\": \"691610408b1c4a4ab1aecdf78da128cb\",\n",
      "  \"role\": \"model\",\n",
      "  \"author\": null,\n",
      "  \"created\": \"2024-05-23T07:46:42.001814+00:00\",\n",
      "  \"content\": {\n",
      "    \"elements\": [\n",
      "      \"The current UTC time and date is Thursday, 23 May 2024, 07:46:41.\"\n",
      "    ]\n",
      "  }\n",
      "}\n"
     ]
    }
   ],
   "source": [
    "from draive import (\n",
    "    LMM,\n",
    "    ConversationMessage,\n",
    "    OpenAIChatConfig,\n",
    "    OpenAIClient,\n",
    "    Toolbox,\n",
    "    conversation_completion,\n",
    "    ctx,\n",
    "    openai_lmm_invocation,\n",
    ")\n",
    "\n",
    "# initialize dependencies and configuration\n",
    "async with ctx.new(\n",
    "    dependencies=[OpenAIClient],  # use OpenAI client\n",
    "    state=[\n",
    "        LMM(invocation=openai_lmm_invocation),  # define used LMM\n",
    "        OpenAIChatConfig(model=\"gpt-3.5-turbo-0125\"),  # configure OpenAI model\n",
    "    ],\n",
    "):\n",
    "    # request conversation completion\n",
    "    response: ConversationMessage = await conversation_completion(  # noqa: PLE1142\n",
    "        # provide a prompt instruction\n",
    "        instruction=\"You are a helpful assistant.\",\n",
    "        # add user input\n",
    "        input=\"Hi! What is the time now?\",\n",
    "        # define tools available to the model\n",
    "        tools=Toolbox(\n",
    "            utc_datetime,\n",
    "        ),\n",
    "    )\n",
    "    print(response)"
   ]
  }
 ],
 "metadata": {
  "kernelspec": {
   "display_name": ".venv",
   "language": "python",
   "name": "python3"
  },
  "language_info": {
   "codemirror_mode": {
    "name": "ipython",
    "version": 3
   },
   "file_extension": ".py",
   "mimetype": "text/x-python",
   "name": "python",
   "nbconvert_exporter": "python",
   "pygments_lexer": "ipython3",
   "version": "3.12.2"
  }
 },
 "nbformat": 4,
 "nbformat_minor": 2
}
