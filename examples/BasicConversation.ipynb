{
 "cells": [
  {
   "cell_type": "markdown",
   "metadata": {},
   "source": [
    "## Basic usage of draive with OpenAI\n",
    "\n",
    "Add OPENAI_API_KEY key to the .env file to allow access to OpenAI services."
   ]
  },
  {
   "cell_type": "code",
   "execution_count": 1,
   "metadata": {},
   "outputs": [],
   "source": [
    "from draive import load_env\n",
    "\n",
    "load_env()  # loads OPENAI_API_KEY from .env file"
   ]
  },
  {
   "cell_type": "code",
   "execution_count": 2,
   "metadata": {},
   "outputs": [],
   "source": [
    "from datetime import UTC, datetime\n",
    "\n",
    "from draive import tool\n",
    "\n",
    "\n",
    "# prepare a basic tool for getting current date and time\n",
    "@tool(description=\"UTC time and date now\")\n",
    "async def utc_datetime() -> str:\n",
    "    return datetime.now(UTC).strftime(\"%A %d %B, %Y, %H:%M:%S\")"
   ]
  },
  {
   "cell_type": "code",
   "execution_count": 3,
   "metadata": {},
   "outputs": [
    {
     "name": "stdout",
     "output_type": "stream",
     "text": [
      "{\n",
      "  \"role\": \"assistant\",\n",
      "  \"content\": \"The current UTC time and date is Wednesday, 17 April 2024, 13:13:27.\",\n",
      "  \"author\": null,\n",
      "  \"created\": \"2024-04-17T13:13:28.396044+00:00\"\n",
      "}\n"
     ]
    }
   ],
   "source": [
    "from draive import (\n",
    "    LMM,\n",
    "    ConversationMessage,\n",
    "    OpenAIChatConfig,\n",
    "    OpenAIClient,\n",
    "    Toolbox,\n",
    "    conversation_completion,\n",
    "    ctx,\n",
    "    openai_lmm_completion,\n",
    ")\n",
    "\n",
    "# initialize dependencies and configuration\n",
    "async with ctx.new(\n",
    "    dependencies=[OpenAIClient],  # use OpenAI client\n",
    "    state=[\n",
    "        LMM(completion=openai_lmm_completion),  # define used LMM\n",
    "        OpenAIChatConfig(model=\"gpt-3.5-turbo-0125\"),  # configure OpenAI model\n",
    "    ],\n",
    "):\n",
    "    # request conversation completion\n",
    "    response: ConversationMessage = await conversation_completion(  # noqa: PLE1142\n",
    "        # provide a prompt instruction\n",
    "        instruction=\"You are a helpful assistant.\",\n",
    "        # add user input\n",
    "        input=\"Hi! What is the time now?\",\n",
    "        # define tools available to the model\n",
    "        tools=Toolbox(\n",
    "            utc_datetime,\n",
    "        ),\n",
    "    )\n",
    "    print(response)"
   ]
  }
 ],
 "metadata": {
  "kernelspec": {
   "display_name": ".venv",
   "language": "python",
   "name": "python3"
  },
  "language_info": {
   "codemirror_mode": {
    "name": "ipython",
    "version": 3
   },
   "file_extension": ".py",
   "mimetype": "text/x-python",
   "name": "python",
   "nbconvert_exporter": "python",
   "pygments_lexer": "ipython3",
   "version": "3.12.2"
  }
 },
 "nbformat": 4,
 "nbformat_minor": 2
}
