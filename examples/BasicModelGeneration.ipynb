{
 "cells": [
  {
   "cell_type": "markdown",
   "metadata": {},
   "source": [
    "## Generate structured data with OpenAI\n",
    "\n",
    "Add OPENAI_API_KEY key to the .env file to allow access to OpenAI services."
   ]
  },
  {
   "cell_type": "code",
   "execution_count": 1,
   "metadata": {},
   "outputs": [],
   "source": [
    "from draive import load_env\n",
    "\n",
    "load_env()  # loads OPENAI_API_KEY from .env file"
   ]
  },
  {
   "cell_type": "code",
   "execution_count": 2,
   "metadata": {},
   "outputs": [],
   "source": [
    "from draive import DataModel\n",
    "\n",
    "\n",
    "# define a Model class to describe the data\n",
    "class InterestingPlace(DataModel):\n",
    "    name: str\n",
    "    description: str | None = None"
   ]
  },
  {
   "cell_type": "code",
   "execution_count": 3,
   "metadata": {},
   "outputs": [
    {
     "name": "stdout",
     "output_type": "stream",
     "text": [
      "{\n",
      "  \"name\": \"The British Museum\",\n",
      "  \"description\": \"The British Museum is one of the world's oldest and most famous museums, housing a vast collection of art and artifacts from around the globe.\"\n",
      "}\n"
     ]
    }
   ],
   "source": [
    "from draive import (\n",
    "    LMM,\n",
    "    OpenAIChatConfig,\n",
    "    OpenAIClient,\n",
    "    ctx,\n",
    "    generate_model,\n",
    "    openai_lmm_invocation,\n",
    ")\n",
    "\n",
    "# initialize dependencies and configuration\n",
    "async with ctx.new(\n",
    "    dependencies=[OpenAIClient],  # use OpenAI client\n",
    "    state=[\n",
    "        LMM(invocation=openai_lmm_invocation),  # define used LMM\n",
    "        OpenAIChatConfig(model=\"gpt-3.5-turbo-0125\"),  # configure OpenAI model\n",
    "    ],\n",
    "):\n",
    "    # request model generation\n",
    "    generated: InterestingPlace = await generate_model(  # noqa: PLE1142\n",
    "        # define model to generate\n",
    "        InterestingPlace,\n",
    "        # provide a prompt instruction\n",
    "        instruction=\"You are a helpful assistant.\",\n",
    "        # add user input\n",
    "        input=\"What is the most interesting place to visit in London?\",\n",
    "    )\n",
    "    print(generated)"
   ]
  }
 ],
 "metadata": {
  "kernelspec": {
   "display_name": ".venv",
   "language": "python",
   "name": "python3"
  },
  "language_info": {
   "codemirror_mode": {
    "name": "ipython",
    "version": 3
   },
   "file_extension": ".py",
   "mimetype": "text/x-python",
   "name": "python",
   "nbconvert_exporter": "python",
   "pygments_lexer": "ipython3",
   "version": "3.12.2"
  }
 },
 "nbformat": 4,
 "nbformat_minor": 2
}
