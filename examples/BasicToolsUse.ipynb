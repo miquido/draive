{
 "cells": [
  {
   "cell_type": "markdown",
   "metadata": {},
   "source": [
    "# Basic tools use\n",
    "\n",
    "Various LLM use cases can utilize function/tool calls to extend LLM capabilities. Draive comes with a dedicated solution to prepare tools and control its execution."
   ]
  },
  {
   "cell_type": "markdown",
   "metadata": {},
   "source": [
    "## Tool definition\n",
    "\n",
    "Let's start by defining a simple tool. Tool is usually a function which is explained to LLM and can be requested to be used. Tools can require generation of arguments and have to return some value. Tools defined within draive are python async function annotated with `tool` wrapper."
   ]
  },
  {
   "cell_type": "code",
   "execution_count": 1,
   "metadata": {},
   "outputs": [],
   "source": [
    "from draive import tool\n",
    "\n",
    "\n",
    "@tool # simply annotate function as a tool, tools can have arguments using basic types\n",
    "async def current_time(location: str) -> str:\n",
    "    # return result of tool execution, we are using fake time here\n",
    "    return f\"Time in {location} is 9:53:22\""
   ]
  },
  {
   "cell_type": "markdown",
   "metadata": {},
   "source": [
    "## Tool use\n",
    "\n",
    "After defining a tool we can use it in multiple scenarios to extend LLM capabilities. All of the tool arguments will be validated when calling. It includes type check and any additional validation if defined. You can still use it as a regular function, although, all tools have to be executed within draive context scope. "
   ]
  },
  {
   "cell_type": "code",
   "execution_count": 2,
   "metadata": {},
   "outputs": [
    {
     "name": "stdout",
     "output_type": "stream",
     "text": [
      "Time in London is 9:53:22\n"
     ]
    }
   ],
   "source": [
    "from draive import ctx\n",
    "\n",
    "async with ctx.new():\n",
    "    # we can still use it as a regular function\n",
    "    # but it has to be executed within context scope\n",
    "    print(await current_time(location=\"London\"))\n",
    "\n",
    "# await current_time(location=\"London\") # error! out of context"
   ]
  },
  {
   "cell_type": "markdown",
   "metadata": {},
   "source": [
    "The biggest benefit of defining a tool is when using LLM. We can tell the model to use available tools to extend its capabilities. Higher level interfaces automatically handle tool calls and going back with its result to LLM to receive the final result. We can see how it works within a simple text generator. Tools are provided within a `Toolbox` object which allows customizing tools execution. You can prepare a `Toolbox` each time it is used or reuse preconstructed one. We will use OpenAI GPT model as it natively supports tool use. Make sure to provide .env file with `OPENAI_API_KEY` key before running. "
   ]
  },
  {
   "cell_type": "code",
   "execution_count": 3,
   "metadata": {},
   "outputs": [
    {
     "name": "stdout",
     "output_type": "stream",
     "text": [
      "The current time in New York is 9:53:22.\n"
     ]
    }
   ],
   "source": [
    "from draive import LMM, OpenAIClient, Toolbox, generate_text, load_env, openai_lmm_invocation\n",
    "\n",
    "load_env()\n",
    "\n",
    "async with ctx.new(\n",
    "    # define used LMM to be OpenAI within the context\n",
    "    state=[LMM(invocation=openai_lmm_invocation)],\n",
    "    dependencies=[OpenAIClient],\n",
    "):\n",
    "    result: str = await generate_text(\n",
    "        instruction=\"You are a helpful assistant\",\n",
    "        input=\"What is the time in New York?\",\n",
    "        tools=Toolbox(current_time),\n",
    "    )\n",
    "\n",
    "    print(result)"
   ]
  },
  {
   "cell_type": "markdown",
   "metadata": {},
   "source": [
    "## Tool details\n",
    "\n",
    "Tools can be customized and extended in various ways depending on use case. First of all we can customize tool arguments and help LLM to better understand how to use given tool."
   ]
  },
  {
   "cell_type": "code",
   "execution_count": 4,
   "metadata": {},
   "outputs": [
    {
     "name": "stdout",
     "output_type": "stream",
     "text": [
      "{'type': 'function', 'function': {'name': 'fun_fact', 'parameters': {'type': 'object', 'properties': {'topic': {'type': 'string', 'description': 'Topic of a fact to find'}}, 'required': []}, 'description': 'Find a fun fact in a given topic'}}\n"
     ]
    }
   ],
   "source": [
    "from draive import Argument\n",
    "\n",
    "\n",
    "@tool( # this time we will use additional arguments within tool annotation\n",
    "    # we can define an alias used as the tool name when explaining it to LLM,\n",
    "    # default name is the name of python function\n",
    "    name=\"fun_fact\",\n",
    "    # additionally we can explain the tool purpose by using description\n",
    "    description=\"Find a fun fact in a given topic\",\n",
    ")\n",
    "async def customized(\n",
    "    # we can also annotate arguments to provide even more details\n",
    "    # and specify argument handling logic\n",
    "    arg: str = Argument(\n",
    "        # we can alias each argument name\n",
    "        alias=\"topic\",\n",
    "        # further describe its use\n",
    "        description=\"Topic of a fact to find\",\n",
    "        # provide default value or default value factory\n",
    "        default=\"random\",\n",
    "        # end more, including custom validators\n",
    "    ),\n",
    ") -> str:\n",
    "    return f\"{arg} is very funny on its own!\"\n",
    "\n",
    "# we can examine tool specification which is similar to\n",
    "# how `State` and `DataModel` specification/schema is built\n",
    "print(customized.specification)"
   ]
  },
  {
   "cell_type": "markdown",
   "metadata": {},
   "source": [
    "## Toolbox\n",
    "\n",
    "We have already used a Toolbox to ask for an extended LLM completion. However Toolbox allows us to specify some additional details regarding the tools execution like the tool calls limit or a tool suggestion."
   ]
  },
  {
   "cell_type": "code",
   "execution_count": 5,
   "metadata": {},
   "outputs": [
    {
     "name": "stdout",
     "output_type": "stream",
     "text": [
      "LLMs is very funny on its own!\n"
     ]
    }
   ],
   "source": [
    "async with ctx.new(\n",
    "    # define used LMM to be OpenAI within the context\n",
    "    state=[LMM(invocation=openai_lmm_invocation)],\n",
    "    dependencies=[OpenAIClient],\n",
    "):\n",
    "    result: str = await generate_text(\n",
    "        instruction=\"You are a funny assistant\",\n",
    "        input=\"What is the funny thing about LLMs?\",\n",
    "        tools=Toolbox(\n",
    "            # we can define any number of tools within a toolbox\n",
    "            current_time,\n",
    "            customized,\n",
    "            # we can limit how many tool calls are allowed\n",
    "            # before the final result is returned\n",
    "            recursive_calls_limit=2,\n",
    "            # we can also force any given tool use within the first LLM call\n",
    "            suggest=customized,\n",
    "        ),\n",
    "    )\n",
    "\n",
    "    print(result)"
   ]
  },
  {
   "cell_type": "markdown",
   "metadata": {},
   "source": [
    "## Metrics\n",
    "\n",
    "All of the tool usage is automatically traced within scope metrics. We can see the details about their execution when using a logger:"
   ]
  },
  {
   "cell_type": "code",
   "execution_count": 6,
   "metadata": {},
   "outputs": [
    {
     "name": "stdout",
     "output_type": "stream",
     "text": [
      "07/Jun/2024:14:09:27 +0000 [INFO] [tools_logs] [54aac040908840cca77e6807b27b8a68|tools_logs] started...\n",
      "07/Jun/2024:14:09:27 +0000 [INFO] [tools_logs] [54aac040908840cca77e6807b27b8a68|lmm_generate_text] started...\n",
      "07/Jun/2024:14:09:27 +0000 [INFO] [tools_logs] [54aac040908840cca77e6807b27b8a68|openai_lmm_completion] started...\n",
      "07/Jun/2024:14:09:27 +0000 [DEBUG] [tools_logs] [54aac040908840cca77e6807b27b8a68|openai_lmm_completion] Requested OpenAI lmm\n",
      "07/Jun/2024:14:09:28 +0000 [INFO] [tools_logs] [54aac040908840cca77e6807b27b8a68|openai_lmm_completion] ...finished after 0.91s\n",
      "07/Jun/2024:14:09:28 +0000 [DEBUG] [tools_logs] [54aac040908840cca77e6807b27b8a68|lmm_generate_text] Received text generation tool calls\n",
      "07/Jun/2024:14:09:28 +0000 [INFO] [tools_logs] [54aac040908840cca77e6807b27b8a68|fun_fact] started...\n",
      "07/Jun/2024:14:09:28 +0000 [INFO] [tools_logs] [54aac040908840cca77e6807b27b8a68|fun_fact] ...finished after 0.00s\n",
      "07/Jun/2024:14:09:28 +0000 [INFO] [tools_logs] [54aac040908840cca77e6807b27b8a68|openai_lmm_completion] started...\n",
      "07/Jun/2024:14:09:28 +0000 [DEBUG] [tools_logs] [54aac040908840cca77e6807b27b8a68|openai_lmm_completion] Requested OpenAI lmm\n",
      "07/Jun/2024:14:09:29 +0000 [INFO] [tools_logs] [54aac040908840cca77e6807b27b8a68|openai_lmm_completion] ...finished after 0.82s\n",
      "07/Jun/2024:14:09:29 +0000 [DEBUG] [tools_logs] [54aac040908840cca77e6807b27b8a68|lmm_generate_text] Received text generation result\n",
      "07/Jun/2024:14:09:29 +0000 [INFO] [tools_logs] [54aac040908840cca77e6807b27b8a68|lmm_generate_text] ...finished after 1.74s\n",
      "\n",
      "Result:\n",
      "LLMs is very funny on its own! If you have any other topics you'd like to know a funny fact about, feel free to ask!\n",
      "\n",
      "07/Jun/2024:14:09:29 +0000 [INFO] [tools_logs] [54aac040908840cca77e6807b27b8a68|tools_logs] ...finished after 1.74s\n",
      "07/Jun/2024:14:09:29 +0000 [INFO] [tools_logs] [54aac040908840cca77e6807b27b8a68] Metrics report:\n",
      "@tools_logs(1.74s):\n",
      "• TokenUsage:\n",
      "|  + usage: \n",
      "|  |  + gpt-3.5-turbo: \n",
      "|  |  |  + input_tokens: 204\n",
      "|  |  |  + output_tokens: 46\n",
      "@lmm_generate_text(1.74s):\n",
      "|  • TokenUsage:\n",
      "|  |  + usage: \n",
      "|  |  |  + gpt-3.5-turbo: \n",
      "|  |  |  |  + input_tokens: 204\n",
      "|  |  |  |  + output_tokens: 46\n",
      "|  @openai_lmm_completion(0.91s):\n",
      "|  |  • ArgumentsTrace:\n",
      "|  |  |  + kwargs: \n",
      "|  |  |  |  + context: \n",
      "|  |  |  |  |  [0] \n",
      "|  |  |  |  |  |  + content: You are a funny assistant\n",
      "|  |  |  |  |  [1] \n",
      "|  |  |  |  |  |  + content: \n",
      "|  |  |  |  |  |  |  + elements: ('What is the funny thing about LLMs?',)\n",
      "|  |  |  |  |  [2] \n",
      "|  |  |  |  |  |  + requests: \n",
      "|  |  |  |  |  |  |  [0] \n",
      "|  |  |  |  |  |  |  |  + identifier: call_XrTPT6Yw776Tv2gI0qVwbj4N\n",
      "|  |  |  |  |  |  |  |  + tool: fun_fact\n",
      "|  |  |  |  |  |  |  |  + arguments: \n",
      "|  |  |  |  |  |  |  |  |  + topic: LLMs\n",
      "|  |  |  |  |  [3] \n",
      "|  |  |  |  |  |  + identifier: call_XrTPT6Yw776Tv2gI0qVwbj4N\n",
      "|  |  |  |  |  |  + tool: fun_fact\n",
      "|  |  |  |  |  |  + content: \n",
      "|  |  |  |  |  |  |  + elements: ('LLMs is very funny on its own!',)\n",
      "|  |  |  |  |  |  + direct: False\n",
      "|  |  |  |  + tools: \n",
      "|  |  |  |  |  [0] \n",
      "|  |  |  |  |  |  + type: function\n",
      "|  |  |  |  |  |  + function: \n",
      "|  |  |  |  |  |  |  + name: current_time\n",
      "|  |  |  |  |  |  |  + parameters: \n",
      "|  |  |  |  |  |  |  |  + type: object\n",
      "|  |  |  |  |  |  |  |  + properties: \n",
      "|  |  |  |  |  |  |  |  |  + location: \n",
      "|  |  |  |  |  |  |  |  |  |  + type: string\n",
      "|  |  |  |  |  |  |  |  + required: \n",
      "|  |  |  |  |  |  |  |  |  [0] location\n",
      "|  |  |  |  |  [1] \n",
      "|  |  |  |  |  |  + type: function\n",
      "|  |  |  |  |  |  + function: \n",
      "|  |  |  |  |  |  |  + name: fun_fact\n",
      "|  |  |  |  |  |  |  + parameters: \n",
      "|  |  |  |  |  |  |  |  + type: object\n",
      "|  |  |  |  |  |  |  |  + properties: \n",
      "|  |  |  |  |  |  |  |  |  + topic: \n",
      "|  |  |  |  |  |  |  |  |  |  + type: string\n",
      "|  |  |  |  |  |  |  |  |  |  + description: Topic of a fact to find\n",
      "|  |  |  |  |  |  |  + description: Find a fun fact in a given topic\n",
      "|  |  |  |  + require_tool: False\n",
      "|  |  |  |  + output: text\n",
      "|  |  |  |  + stream: False\n",
      "|  |  • OpenAIChatConfig:\n",
      "|  |  |  + model: gpt-3.5-turbo\n",
      "|  |  |  + temperature: 0.0\n",
      "|  |  • TokenUsage:\n",
      "|  |  |  + usage: \n",
      "|  |  |  |  + gpt-3.5-turbo: \n",
      "|  |  |  |  |  + input_tokens: 204\n",
      "|  |  |  |  |  + output_tokens: 46\n",
      "|  |  • ResultTrace:\n",
      "|  |  |  + result: \n",
      "|  |  |  |  [0] \n",
      "|  |  |  |  |  + id: call_XrTPT6Yw776Tv2gI0qVwbj4N\n",
      "|  |  |  |  |  + function: \n",
      "|  |  |  |  |  |  + arguments: {\"topic\":\"LLMs\"}\n",
      "|  |  |  |  |  |  + name: fun_fact\n",
      "|  |  |  |  |  + type: function\n",
      "|  @fun_fact(0.00s):\n",
      "|  |  • ArgumentsTrace:\n",
      "|  |  |  + kwargs: \n",
      "|  |  |  |  + topic: LLMs\n",
      "|  |  • ResultTrace:\n",
      "|  |  |  + result: LLMs is very funny on its own!\n",
      "|  @openai_lmm_completion(0.82s):\n",
      "|  |  • ArgumentsTrace:\n",
      "|  |  |  + kwargs: \n",
      "|  |  |  |  + context: \n",
      "|  |  |  |  |  [0] \n",
      "|  |  |  |  |  |  + content: You are a funny assistant\n",
      "|  |  |  |  |  [1] \n",
      "|  |  |  |  |  |  + content: \n",
      "|  |  |  |  |  |  |  + elements: ('What is the funny thing about LLMs?',)\n",
      "|  |  |  |  |  [2] \n",
      "|  |  |  |  |  |  + requests: \n",
      "|  |  |  |  |  |  |  [0] \n",
      "|  |  |  |  |  |  |  |  + identifier: call_XrTPT6Yw776Tv2gI0qVwbj4N\n",
      "|  |  |  |  |  |  |  |  + tool: fun_fact\n",
      "|  |  |  |  |  |  |  |  + arguments: \n",
      "|  |  |  |  |  |  |  |  |  + topic: LLMs\n",
      "|  |  |  |  |  [3] \n",
      "|  |  |  |  |  |  + identifier: call_XrTPT6Yw776Tv2gI0qVwbj4N\n",
      "|  |  |  |  |  |  + tool: fun_fact\n",
      "|  |  |  |  |  |  + content: \n",
      "|  |  |  |  |  |  |  + elements: ('LLMs is very funny on its own!',)\n",
      "|  |  |  |  |  |  + direct: False\n",
      "|  |  |  |  + tools: \n",
      "|  |  |  |  |  [0] \n",
      "|  |  |  |  |  |  + type: function\n",
      "|  |  |  |  |  |  + function: \n",
      "|  |  |  |  |  |  |  + name: current_time\n",
      "|  |  |  |  |  |  |  + parameters: \n",
      "|  |  |  |  |  |  |  |  + type: object\n",
      "|  |  |  |  |  |  |  |  + properties: \n",
      "|  |  |  |  |  |  |  |  |  + location: \n",
      "|  |  |  |  |  |  |  |  |  |  + type: string\n",
      "|  |  |  |  |  |  |  |  + required: \n",
      "|  |  |  |  |  |  |  |  |  [0] location\n",
      "|  |  |  |  |  [1] \n",
      "|  |  |  |  |  |  + type: function\n",
      "|  |  |  |  |  |  + function: \n",
      "|  |  |  |  |  |  |  + name: fun_fact\n",
      "|  |  |  |  |  |  |  + parameters: \n",
      "|  |  |  |  |  |  |  |  + type: object\n",
      "|  |  |  |  |  |  |  |  + properties: \n",
      "|  |  |  |  |  |  |  |  |  + topic: \n",
      "|  |  |  |  |  |  |  |  |  |  + type: string\n",
      "|  |  |  |  |  |  |  |  |  |  + description: Topic of a fact to find\n",
      "|  |  |  |  |  |  |  + description: Find a fun fact in a given topic\n",
      "|  |  |  |  + require_tool: False\n",
      "|  |  |  |  + output: text\n",
      "|  |  |  |  + stream: False\n",
      "|  |  • OpenAIChatConfig:\n",
      "|  |  |  + model: gpt-3.5-turbo\n",
      "|  |  |  + temperature: 0.0\n",
      "|  |  • TokenUsage:\n",
      "|  |  |  + usage: \n",
      "|  |  |  |  + gpt-3.5-turbo: \n",
      "|  |  |  |  |  + input_tokens: 118\n",
      "|  |  |  |  |  + output_tokens: 31\n",
      "|  |  • ResultTrace:\n",
      "|  |  |  + result: LLMs is very funny on its own! If you have any other topics you'...\n"
     ]
    }
   ],
   "source": [
    "from draive import setup_logging\n",
    "\n",
    "setup_logging(\"tools_logs\")\n",
    "\n",
    "async with ctx.new(\n",
    "    \"tools_logs\",\n",
    "    # define used LMM to be OpenAI within the context\n",
    "    state=[LMM(invocation=openai_lmm_invocation)],\n",
    "    dependencies=[OpenAIClient],\n",
    "):\n",
    "    result: str = await generate_text(\n",
    "        instruction=\"You are a funny assistant\",\n",
    "        input=\"What is the funny thing about LLMs?\",\n",
    "        # we will now be able to see what tools were used\n",
    "        # and check the details about its execution\n",
    "        tools=Toolbox(\n",
    "            current_time,\n",
    "            customized,\n",
    "        ),\n",
    "    )\n",
    "\n",
    "    print(f\"\\nResult:\\n{result}\\n\")"
   ]
  }
 ],
 "metadata": {
  "kernelspec": {
   "display_name": ".venv",
   "language": "python",
   "name": "python3"
  },
  "language_info": {
   "codemirror_mode": {
    "name": "ipython",
    "version": 3
   },
   "file_extension": ".py",
   "mimetype": "text/x-python",
   "name": "python",
   "nbconvert_exporter": "python",
   "pygments_lexer": "ipython3",
   "version": "3.12.2"
  }
 },
 "nbformat": 4,
 "nbformat_minor": 2
}
